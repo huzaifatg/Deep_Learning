{
 "cells": [
  {
   "cell_type": "code",
   "execution_count": 47,
   "id": "833ed49b",
   "metadata": {},
   "outputs": [],
   "source": [
    "import numpy as np\n",
    "import pandas as pd\n",
    "import matplotlib.pyplot as plt\n",
    "from sklearn.preprocessing import MinMaxScaler\n",
    "from keras.models import Sequential\n",
    "from keras.layers import Dense, SimpleRNN\n"
   ]
  },
  {
   "cell_type": "code",
   "execution_count": 48,
   "id": "f2f762eb",
   "metadata": {},
   "outputs": [],
   "source": [
    "# Make sure you have the Apple stock CSV file\n",
    "dataframe = pd.read_csv('apple.csv')  # Your Apple stock CSV\n",
    "\n",
    "# Convert 'Date' column to datetime and set as index\n",
    "dataframe['Date'] = pd.to_datetime(dataframe['Date'])\n",
    "dataframe.set_index('Date', inplace=True)\n"
   ]
  },
  {
   "cell_type": "code",
   "execution_count": 49,
   "id": "055fe731",
   "metadata": {},
   "outputs": [
    {
     "name": "stdout",
     "output_type": "stream",
     "text": [
      "Normalized data shape: (2518, 1)\n",
      "First 5 values:\n",
      " [[0.81894262]\n",
      " [0.81948068]\n",
      " [0.88381255]\n",
      " [0.86844419]\n",
      " [0.90240927]]\n"
     ]
    }
   ],
   "source": [
    "# Remove $ symbols, commas, and spaces\n",
    "dataframe['Close'] = dataframe['Close'].astype(str).str.replace('$', '').str.replace(',', '').str.strip()\n",
    "\n",
    "# Convert to numeric and drop invalid rows\n",
    "dataframe['Close'] = pd.to_numeric(dataframe['Close'], errors='coerce')\n",
    "dataframe.dropna(subset=['Close'], inplace=True)\n",
    "\n",
    "# Extract closing prices\n",
    "closing_prices = dataframe[['Close']].values\n",
    "\n",
    "# Normalize between 0 and 1\n",
    "scaler_obj = MinMaxScaler(feature_range=(0, 1))\n",
    "normalized_data = scaler_obj.fit_transform(closing_prices)\n",
    "\n",
    "# Quick check\n",
    "print(\"Normalized data shape:\", normalized_data.shape)\n",
    "print(\"First 5 values:\\n\", normalized_data[:5])\n"
   ]
  },
  {
   "cell_type": "code",
   "execution_count": 79,
   "id": "fbb080d0",
   "metadata": {},
   "outputs": [
    {
     "name": "stdout",
     "output_type": "stream",
     "text": [
      "Feature shape: (2458, 60, 1)\n",
      "Label shape: (2458, 1)\n"
     ]
    }
   ],
   "source": [
    "def generate_sequences(data, seq_len):\n",
    "    X_seq, y_seq = [], []\n",
    "    for idx in range(len(data) - seq_len):\n",
    "        X_seq.append(data[idx:idx + seq_len])\n",
    "        y_seq.append(data[idx + seq_len])\n",
    "    return np.array(X_seq), np.array(y_seq)\n",
    "\n",
    "sequence_len = 60  # Number of past days to look at\n",
    "X_features, y_labels = generate_sequences(normalized_data, sequence_len)\n",
    "\n",
    "print(\"Feature shape:\", X_features.shape)\n",
    "print(\"Label shape:\", y_labels.shape)\n"
   ]
  },
  {
   "cell_type": "code",
   "execution_count": 80,
   "id": "5f7259c6",
   "metadata": {},
   "outputs": [
    {
     "name": "stdout",
     "output_type": "stream",
     "text": [
      "Training set: (1966, 60, 1) (1966, 1)\n",
      "Test set: (492, 60, 1) (492, 1)\n"
     ]
    }
   ],
   "source": [
    "train_test_split_idx = int(len(X_features) * 0.8)\n",
    "\n",
    "X_train_data, y_train_data = X_features[:train_test_split_idx], y_labels[:train_test_split_idx]\n",
    "X_test_data, y_test_data = X_features[train_test_split_idx:], y_labels[train_test_split_idx:]\n",
    "\n",
    "print(\"Training set:\", X_train_data.shape, y_train_data.shape)\n",
    "print(\"Test set:\", X_test_data.shape, y_test_data.shape)\n"
   ]
  },
  {
   "cell_type": "code",
   "execution_count": 81,
   "id": "53380782",
   "metadata": {},
   "outputs": [
    {
     "name": "stderr",
     "output_type": "stream",
     "text": [
      "c:\\Users\\huzai\\AppData\\Local\\Programs\\Python\\Python312\\Lib\\site-packages\\keras\\src\\layers\\rnn\\rnn.py:199: UserWarning: Do not pass an `input_shape`/`input_dim` argument to a layer. When using Sequential models, prefer using an `Input(shape)` object as the first layer in the model instead.\n",
      "  super().__init__(**kwargs)\n"
     ]
    },
    {
     "data": {
      "text/html": [
       "<pre style=\"white-space:pre;overflow-x:auto;line-height:normal;font-family:Menlo,'DejaVu Sans Mono',consolas,'Courier New',monospace\"><span style=\"font-weight: bold\">Model: \"sequential_5\"</span>\n",
       "</pre>\n"
      ],
      "text/plain": [
       "\u001b[1mModel: \"sequential_5\"\u001b[0m\n"
      ]
     },
     "metadata": {},
     "output_type": "display_data"
    },
    {
     "data": {
      "text/html": [
       "<pre style=\"white-space:pre;overflow-x:auto;line-height:normal;font-family:Menlo,'DejaVu Sans Mono',consolas,'Courier New',monospace\">┏━━━━━━━━━━━━━━━━━━━━━━━━━━━━━━━━━┳━━━━━━━━━━━━━━━━━━━━━━━━┳━━━━━━━━━━━━━━━┓\n",
       "┃<span style=\"font-weight: bold\"> Layer (type)                    </span>┃<span style=\"font-weight: bold\"> Output Shape           </span>┃<span style=\"font-weight: bold\">       Param # </span>┃\n",
       "┡━━━━━━━━━━━━━━━━━━━━━━━━━━━━━━━━━╇━━━━━━━━━━━━━━━━━━━━━━━━╇━━━━━━━━━━━━━━━┩\n",
       "│ simple_rnn_5 (<span style=\"color: #0087ff; text-decoration-color: #0087ff\">SimpleRNN</span>)        │ (<span style=\"color: #00d7ff; text-decoration-color: #00d7ff\">None</span>, <span style=\"color: #00af00; text-decoration-color: #00af00\">50</span>)             │         <span style=\"color: #00af00; text-decoration-color: #00af00\">2,600</span> │\n",
       "├─────────────────────────────────┼────────────────────────┼───────────────┤\n",
       "│ dense_5 (<span style=\"color: #0087ff; text-decoration-color: #0087ff\">Dense</span>)                 │ (<span style=\"color: #00d7ff; text-decoration-color: #00d7ff\">None</span>, <span style=\"color: #00af00; text-decoration-color: #00af00\">1</span>)              │            <span style=\"color: #00af00; text-decoration-color: #00af00\">51</span> │\n",
       "└─────────────────────────────────┴────────────────────────┴───────────────┘\n",
       "</pre>\n"
      ],
      "text/plain": [
       "┏━━━━━━━━━━━━━━━━━━━━━━━━━━━━━━━━━┳━━━━━━━━━━━━━━━━━━━━━━━━┳━━━━━━━━━━━━━━━┓\n",
       "┃\u001b[1m \u001b[0m\u001b[1mLayer (type)                   \u001b[0m\u001b[1m \u001b[0m┃\u001b[1m \u001b[0m\u001b[1mOutput Shape          \u001b[0m\u001b[1m \u001b[0m┃\u001b[1m \u001b[0m\u001b[1m      Param #\u001b[0m\u001b[1m \u001b[0m┃\n",
       "┡━━━━━━━━━━━━━━━━━━━━━━━━━━━━━━━━━╇━━━━━━━━━━━━━━━━━━━━━━━━╇━━━━━━━━━━━━━━━┩\n",
       "│ simple_rnn_5 (\u001b[38;5;33mSimpleRNN\u001b[0m)        │ (\u001b[38;5;45mNone\u001b[0m, \u001b[38;5;34m50\u001b[0m)             │         \u001b[38;5;34m2,600\u001b[0m │\n",
       "├─────────────────────────────────┼────────────────────────┼───────────────┤\n",
       "│ dense_5 (\u001b[38;5;33mDense\u001b[0m)                 │ (\u001b[38;5;45mNone\u001b[0m, \u001b[38;5;34m1\u001b[0m)              │            \u001b[38;5;34m51\u001b[0m │\n",
       "└─────────────────────────────────┴────────────────────────┴───────────────┘\n"
      ]
     },
     "metadata": {},
     "output_type": "display_data"
    },
    {
     "data": {
      "text/html": [
       "<pre style=\"white-space:pre;overflow-x:auto;line-height:normal;font-family:Menlo,'DejaVu Sans Mono',consolas,'Courier New',monospace\"><span style=\"font-weight: bold\"> Total params: </span><span style=\"color: #00af00; text-decoration-color: #00af00\">2,651</span> (10.36 KB)\n",
       "</pre>\n"
      ],
      "text/plain": [
       "\u001b[1m Total params: \u001b[0m\u001b[38;5;34m2,651\u001b[0m (10.36 KB)\n"
      ]
     },
     "metadata": {},
     "output_type": "display_data"
    },
    {
     "data": {
      "text/html": [
       "<pre style=\"white-space:pre;overflow-x:auto;line-height:normal;font-family:Menlo,'DejaVu Sans Mono',consolas,'Courier New',monospace\"><span style=\"font-weight: bold\"> Trainable params: </span><span style=\"color: #00af00; text-decoration-color: #00af00\">2,651</span> (10.36 KB)\n",
       "</pre>\n"
      ],
      "text/plain": [
       "\u001b[1m Trainable params: \u001b[0m\u001b[38;5;34m2,651\u001b[0m (10.36 KB)\n"
      ]
     },
     "metadata": {},
     "output_type": "display_data"
    },
    {
     "data": {
      "text/html": [
       "<pre style=\"white-space:pre;overflow-x:auto;line-height:normal;font-family:Menlo,'DejaVu Sans Mono',consolas,'Courier New',monospace\"><span style=\"font-weight: bold\"> Non-trainable params: </span><span style=\"color: #00af00; text-decoration-color: #00af00\">0</span> (0.00 B)\n",
       "</pre>\n"
      ],
      "text/plain": [
       "\u001b[1m Non-trainable params: \u001b[0m\u001b[38;5;34m0\u001b[0m (0.00 B)\n"
      ]
     },
     "metadata": {},
     "output_type": "display_data"
    }
   ],
   "source": [
    "rnn_model = Sequential()\n",
    "rnn_model.add(SimpleRNN(units=50, activation='relu', input_shape=(sequence_len, 1)))\n",
    "rnn_model.add(Dense(1))  # Output layer\n",
    "\n",
    "rnn_model.compile(optimizer='adam', loss='mean_squared_error')\n",
    "\n",
    "rnn_model.summary()\n"
   ]
  },
  {
   "cell_type": "code",
   "execution_count": 83,
   "id": "9e57239d",
   "metadata": {},
   "outputs": [
    {
     "name": "stdout",
     "output_type": "stream",
     "text": [
      "Epoch 1/100\n",
      "\u001b[1m62/62\u001b[0m \u001b[32m━━━━━━━━━━━━━━━━━━━━\u001b[0m\u001b[37m\u001b[0m \u001b[1m0s\u001b[0m 4ms/step - loss: 9.6553e-05 - val_loss: 2.3661e-05\n",
      "Epoch 2/100\n",
      "\u001b[1m62/62\u001b[0m \u001b[32m━━━━━━━━━━━━━━━━━━━━\u001b[0m\u001b[37m\u001b[0m \u001b[1m0s\u001b[0m 4ms/step - loss: 9.1874e-05 - val_loss: 2.3431e-05\n",
      "Epoch 3/100\n",
      "\u001b[1m62/62\u001b[0m \u001b[32m━━━━━━━━━━━━━━━━━━━━\u001b[0m\u001b[37m\u001b[0m \u001b[1m0s\u001b[0m 4ms/step - loss: 9.4666e-05 - val_loss: 3.2163e-05\n",
      "Epoch 4/100\n",
      "\u001b[1m62/62\u001b[0m \u001b[32m━━━━━━━━━━━━━━━━━━━━\u001b[0m\u001b[37m\u001b[0m \u001b[1m0s\u001b[0m 5ms/step - loss: 1.0473e-04 - val_loss: 4.9353e-05\n",
      "Epoch 5/100\n",
      "\u001b[1m62/62\u001b[0m \u001b[32m━━━━━━━━━━━━━━━━━━━━\u001b[0m\u001b[37m\u001b[0m \u001b[1m0s\u001b[0m 4ms/step - loss: 9.3730e-05 - val_loss: 2.5907e-05\n",
      "Epoch 6/100\n",
      "\u001b[1m62/62\u001b[0m \u001b[32m━━━━━━━━━━━━━━━━━━━━\u001b[0m\u001b[37m\u001b[0m \u001b[1m0s\u001b[0m 4ms/step - loss: 8.9134e-05 - val_loss: 3.7343e-05\n",
      "Epoch 7/100\n",
      "\u001b[1m62/62\u001b[0m \u001b[32m━━━━━━━━━━━━━━━━━━━━\u001b[0m\u001b[37m\u001b[0m \u001b[1m0s\u001b[0m 4ms/step - loss: 8.9578e-05 - val_loss: 3.3232e-05\n",
      "Epoch 8/100\n",
      "\u001b[1m62/62\u001b[0m \u001b[32m━━━━━━━━━━━━━━━━━━━━\u001b[0m\u001b[37m\u001b[0m \u001b[1m0s\u001b[0m 4ms/step - loss: 9.7363e-05 - val_loss: 1.6974e-05\n",
      "Epoch 9/100\n",
      "\u001b[1m62/62\u001b[0m \u001b[32m━━━━━━━━━━━━━━━━━━━━\u001b[0m\u001b[37m\u001b[0m \u001b[1m0s\u001b[0m 4ms/step - loss: 9.5283e-05 - val_loss: 1.9340e-05\n",
      "Epoch 10/100\n",
      "\u001b[1m62/62\u001b[0m \u001b[32m━━━━━━━━━━━━━━━━━━━━\u001b[0m\u001b[37m\u001b[0m \u001b[1m0s\u001b[0m 4ms/step - loss: 9.0416e-05 - val_loss: 3.6726e-05\n",
      "Epoch 11/100\n",
      "\u001b[1m62/62\u001b[0m \u001b[32m━━━━━━━━━━━━━━━━━━━━\u001b[0m\u001b[37m\u001b[0m \u001b[1m0s\u001b[0m 4ms/step - loss: 9.3504e-05 - val_loss: 4.8233e-05\n",
      "Epoch 12/100\n",
      "\u001b[1m62/62\u001b[0m \u001b[32m━━━━━━━━━━━━━━━━━━━━\u001b[0m\u001b[37m\u001b[0m \u001b[1m0s\u001b[0m 4ms/step - loss: 8.9430e-05 - val_loss: 3.1052e-05\n",
      "Epoch 13/100\n",
      "\u001b[1m62/62\u001b[0m \u001b[32m━━━━━━━━━━━━━━━━━━━━\u001b[0m\u001b[37m\u001b[0m \u001b[1m0s\u001b[0m 4ms/step - loss: 9.2335e-05 - val_loss: 2.7020e-05\n",
      "Epoch 14/100\n",
      "\u001b[1m62/62\u001b[0m \u001b[32m━━━━━━━━━━━━━━━━━━━━\u001b[0m\u001b[37m\u001b[0m \u001b[1m0s\u001b[0m 4ms/step - loss: 9.2724e-05 - val_loss: 4.4498e-05\n",
      "Epoch 15/100\n",
      "\u001b[1m62/62\u001b[0m \u001b[32m━━━━━━━━━━━━━━━━━━━━\u001b[0m\u001b[37m\u001b[0m \u001b[1m0s\u001b[0m 4ms/step - loss: 8.4559e-05 - val_loss: 2.0251e-05\n",
      "Epoch 16/100\n",
      "\u001b[1m62/62\u001b[0m \u001b[32m━━━━━━━━━━━━━━━━━━━━\u001b[0m\u001b[37m\u001b[0m \u001b[1m0s\u001b[0m 4ms/step - loss: 8.7574e-05 - val_loss: 2.1436e-05\n",
      "Epoch 17/100\n",
      "\u001b[1m62/62\u001b[0m \u001b[32m━━━━━━━━━━━━━━━━━━━━\u001b[0m\u001b[37m\u001b[0m \u001b[1m0s\u001b[0m 4ms/step - loss: 8.1424e-05 - val_loss: 2.2658e-05\n",
      "Epoch 18/100\n",
      "\u001b[1m62/62\u001b[0m \u001b[32m━━━━━━━━━━━━━━━━━━━━\u001b[0m\u001b[37m\u001b[0m \u001b[1m0s\u001b[0m 4ms/step - loss: 8.5242e-05 - val_loss: 2.2638e-05\n",
      "Epoch 19/100\n",
      "\u001b[1m62/62\u001b[0m \u001b[32m━━━━━━━━━━━━━━━━━━━━\u001b[0m\u001b[37m\u001b[0m \u001b[1m0s\u001b[0m 4ms/step - loss: 8.9260e-05 - val_loss: 2.4287e-05\n",
      "Epoch 20/100\n",
      "\u001b[1m62/62\u001b[0m \u001b[32m━━━━━━━━━━━━━━━━━━━━\u001b[0m\u001b[37m\u001b[0m \u001b[1m0s\u001b[0m 4ms/step - loss: 8.7479e-05 - val_loss: 2.4584e-05\n",
      "Epoch 21/100\n",
      "\u001b[1m62/62\u001b[0m \u001b[32m━━━━━━━━━━━━━━━━━━━━\u001b[0m\u001b[37m\u001b[0m \u001b[1m0s\u001b[0m 4ms/step - loss: 8.3967e-05 - val_loss: 1.8627e-05\n",
      "Epoch 22/100\n",
      "\u001b[1m62/62\u001b[0m \u001b[32m━━━━━━━━━━━━━━━━━━━━\u001b[0m\u001b[37m\u001b[0m \u001b[1m0s\u001b[0m 4ms/step - loss: 8.0926e-05 - val_loss: 1.8618e-05\n",
      "Epoch 23/100\n",
      "\u001b[1m62/62\u001b[0m \u001b[32m━━━━━━━━━━━━━━━━━━━━\u001b[0m\u001b[37m\u001b[0m \u001b[1m0s\u001b[0m 4ms/step - loss: 8.7076e-05 - val_loss: 2.8745e-05\n",
      "Epoch 24/100\n",
      "\u001b[1m62/62\u001b[0m \u001b[32m━━━━━━━━━━━━━━━━━━━━\u001b[0m\u001b[37m\u001b[0m \u001b[1m0s\u001b[0m 4ms/step - loss: 8.1455e-05 - val_loss: 2.3432e-05\n",
      "Epoch 25/100\n",
      "\u001b[1m62/62\u001b[0m \u001b[32m━━━━━━━━━━━━━━━━━━━━\u001b[0m\u001b[37m\u001b[0m \u001b[1m0s\u001b[0m 4ms/step - loss: 8.0196e-05 - val_loss: 2.1764e-05\n",
      "Epoch 26/100\n",
      "\u001b[1m62/62\u001b[0m \u001b[32m━━━━━━━━━━━━━━━━━━━━\u001b[0m\u001b[37m\u001b[0m \u001b[1m0s\u001b[0m 4ms/step - loss: 8.0580e-05 - val_loss: 1.5571e-05\n",
      "Epoch 27/100\n",
      "\u001b[1m62/62\u001b[0m \u001b[32m━━━━━━━━━━━━━━━━━━━━\u001b[0m\u001b[37m\u001b[0m \u001b[1m0s\u001b[0m 4ms/step - loss: 8.0216e-05 - val_loss: 1.8155e-05\n",
      "Epoch 28/100\n",
      "\u001b[1m62/62\u001b[0m \u001b[32m━━━━━━━━━━━━━━━━━━━━\u001b[0m\u001b[37m\u001b[0m \u001b[1m0s\u001b[0m 4ms/step - loss: 8.6037e-05 - val_loss: 1.4870e-05\n",
      "Epoch 29/100\n",
      "\u001b[1m62/62\u001b[0m \u001b[32m━━━━━━━━━━━━━━━━━━━━\u001b[0m\u001b[37m\u001b[0m \u001b[1m0s\u001b[0m 4ms/step - loss: 8.4645e-05 - val_loss: 4.5929e-05\n",
      "Epoch 30/100\n",
      "\u001b[1m62/62\u001b[0m \u001b[32m━━━━━━━━━━━━━━━━━━━━\u001b[0m\u001b[37m\u001b[0m \u001b[1m0s\u001b[0m 4ms/step - loss: 7.5984e-05 - val_loss: 2.1954e-05\n",
      "Epoch 31/100\n",
      "\u001b[1m62/62\u001b[0m \u001b[32m━━━━━━━━━━━━━━━━━━━━\u001b[0m\u001b[37m\u001b[0m \u001b[1m0s\u001b[0m 4ms/step - loss: 7.5195e-05 - val_loss: 1.2676e-05\n",
      "Epoch 32/100\n",
      "\u001b[1m62/62\u001b[0m \u001b[32m━━━━━━━━━━━━━━━━━━━━\u001b[0m\u001b[37m\u001b[0m \u001b[1m0s\u001b[0m 4ms/step - loss: 7.8227e-05 - val_loss: 1.5285e-05\n",
      "Epoch 33/100\n",
      "\u001b[1m62/62\u001b[0m \u001b[32m━━━━━━━━━━━━━━━━━━━━\u001b[0m\u001b[37m\u001b[0m \u001b[1m0s\u001b[0m 4ms/step - loss: 8.2504e-05 - val_loss: 2.1411e-05\n",
      "Epoch 34/100\n",
      "\u001b[1m62/62\u001b[0m \u001b[32m━━━━━━━━━━━━━━━━━━━━\u001b[0m\u001b[37m\u001b[0m \u001b[1m0s\u001b[0m 6ms/step - loss: 7.0744e-05 - val_loss: 1.5187e-05\n",
      "Epoch 35/100\n",
      "\u001b[1m62/62\u001b[0m \u001b[32m━━━━━━━━━━━━━━━━━━━━\u001b[0m\u001b[37m\u001b[0m \u001b[1m0s\u001b[0m 4ms/step - loss: 7.2734e-05 - val_loss: 1.1871e-05\n",
      "Epoch 36/100\n",
      "\u001b[1m62/62\u001b[0m \u001b[32m━━━━━━━━━━━━━━━━━━━━\u001b[0m\u001b[37m\u001b[0m \u001b[1m0s\u001b[0m 5ms/step - loss: 7.9007e-05 - val_loss: 1.1672e-05\n",
      "Epoch 37/100\n",
      "\u001b[1m62/62\u001b[0m \u001b[32m━━━━━━━━━━━━━━━━━━━━\u001b[0m\u001b[37m\u001b[0m \u001b[1m0s\u001b[0m 4ms/step - loss: 7.9488e-05 - val_loss: 1.7912e-05\n",
      "Epoch 38/100\n",
      "\u001b[1m62/62\u001b[0m \u001b[32m━━━━━━━━━━━━━━━━━━━━\u001b[0m\u001b[37m\u001b[0m \u001b[1m0s\u001b[0m 4ms/step - loss: 7.0684e-05 - val_loss: 1.2213e-05\n",
      "Epoch 39/100\n",
      "\u001b[1m62/62\u001b[0m \u001b[32m━━━━━━━━━━━━━━━━━━━━\u001b[0m\u001b[37m\u001b[0m \u001b[1m0s\u001b[0m 4ms/step - loss: 7.3302e-05 - val_loss: 3.5111e-05\n",
      "Epoch 40/100\n",
      "\u001b[1m62/62\u001b[0m \u001b[32m━━━━━━━━━━━━━━━━━━━━\u001b[0m\u001b[37m\u001b[0m \u001b[1m0s\u001b[0m 4ms/step - loss: 7.1396e-05 - val_loss: 2.2138e-05\n",
      "Epoch 41/100\n",
      "\u001b[1m62/62\u001b[0m \u001b[32m━━━━━━━━━━━━━━━━━━━━\u001b[0m\u001b[37m\u001b[0m \u001b[1m0s\u001b[0m 4ms/step - loss: 7.0890e-05 - val_loss: 1.5095e-05\n",
      "Epoch 42/100\n",
      "\u001b[1m62/62\u001b[0m \u001b[32m━━━━━━━━━━━━━━━━━━━━\u001b[0m\u001b[37m\u001b[0m \u001b[1m0s\u001b[0m 5ms/step - loss: 6.8282e-05 - val_loss: 1.1964e-05\n",
      "Epoch 43/100\n",
      "\u001b[1m62/62\u001b[0m \u001b[32m━━━━━━━━━━━━━━━━━━━━\u001b[0m\u001b[37m\u001b[0m \u001b[1m0s\u001b[0m 4ms/step - loss: 7.1305e-05 - val_loss: 1.1882e-05\n",
      "Epoch 44/100\n",
      "\u001b[1m62/62\u001b[0m \u001b[32m━━━━━━━━━━━━━━━━━━━━\u001b[0m\u001b[37m\u001b[0m \u001b[1m0s\u001b[0m 5ms/step - loss: 7.4941e-05 - val_loss: 4.9503e-05\n",
      "Epoch 45/100\n",
      "\u001b[1m62/62\u001b[0m \u001b[32m━━━━━━━━━━━━━━━━━━━━\u001b[0m\u001b[37m\u001b[0m \u001b[1m0s\u001b[0m 4ms/step - loss: 6.5888e-05 - val_loss: 1.1981e-05\n",
      "Epoch 46/100\n",
      "\u001b[1m62/62\u001b[0m \u001b[32m━━━━━━━━━━━━━━━━━━━━\u001b[0m\u001b[37m\u001b[0m \u001b[1m0s\u001b[0m 5ms/step - loss: 6.7420e-05 - val_loss: 1.6841e-05\n",
      "Epoch 47/100\n",
      "\u001b[1m62/62\u001b[0m \u001b[32m━━━━━━━━━━━━━━━━━━━━\u001b[0m\u001b[37m\u001b[0m \u001b[1m0s\u001b[0m 4ms/step - loss: 6.6582e-05 - val_loss: 1.3994e-05\n",
      "Epoch 48/100\n",
      "\u001b[1m62/62\u001b[0m \u001b[32m━━━━━━━━━━━━━━━━━━━━\u001b[0m\u001b[37m\u001b[0m \u001b[1m0s\u001b[0m 4ms/step - loss: 7.0455e-05 - val_loss: 1.1364e-05\n",
      "Epoch 49/100\n",
      "\u001b[1m62/62\u001b[0m \u001b[32m━━━━━━━━━━━━━━━━━━━━\u001b[0m\u001b[37m\u001b[0m \u001b[1m0s\u001b[0m 4ms/step - loss: 7.2897e-05 - val_loss: 3.1299e-05\n",
      "Epoch 50/100\n",
      "\u001b[1m62/62\u001b[0m \u001b[32m━━━━━━━━━━━━━━━━━━━━\u001b[0m\u001b[37m\u001b[0m \u001b[1m0s\u001b[0m 5ms/step - loss: 6.6675e-05 - val_loss: 1.9486e-05\n",
      "Epoch 51/100\n",
      "\u001b[1m62/62\u001b[0m \u001b[32m━━━━━━━━━━━━━━━━━━━━\u001b[0m\u001b[37m\u001b[0m \u001b[1m0s\u001b[0m 6ms/step - loss: 6.1711e-05 - val_loss: 1.2413e-05\n",
      "Epoch 52/100\n",
      "\u001b[1m62/62\u001b[0m \u001b[32m━━━━━━━━━━━━━━━━━━━━\u001b[0m\u001b[37m\u001b[0m \u001b[1m0s\u001b[0m 6ms/step - loss: 6.4308e-05 - val_loss: 1.5627e-05\n",
      "Epoch 53/100\n",
      "\u001b[1m62/62\u001b[0m \u001b[32m━━━━━━━━━━━━━━━━━━━━\u001b[0m\u001b[37m\u001b[0m \u001b[1m0s\u001b[0m 7ms/step - loss: 6.5683e-05 - val_loss: 1.1959e-05\n",
      "Epoch 54/100\n",
      "\u001b[1m62/62\u001b[0m \u001b[32m━━━━━━━━━━━━━━━━━━━━\u001b[0m\u001b[37m\u001b[0m \u001b[1m0s\u001b[0m 5ms/step - loss: 6.6704e-05 - val_loss: 3.4387e-05\n",
      "Epoch 55/100\n",
      "\u001b[1m62/62\u001b[0m \u001b[32m━━━━━━━━━━━━━━━━━━━━\u001b[0m\u001b[37m\u001b[0m \u001b[1m0s\u001b[0m 5ms/step - loss: 6.6345e-05 - val_loss: 1.2570e-05\n",
      "Epoch 56/100\n",
      "\u001b[1m62/62\u001b[0m \u001b[32m━━━━━━━━━━━━━━━━━━━━\u001b[0m\u001b[37m\u001b[0m \u001b[1m0s\u001b[0m 5ms/step - loss: 6.6184e-05 - val_loss: 2.7660e-05\n",
      "Epoch 57/100\n",
      "\u001b[1m62/62\u001b[0m \u001b[32m━━━━━━━━━━━━━━━━━━━━\u001b[0m\u001b[37m\u001b[0m \u001b[1m0s\u001b[0m 5ms/step - loss: 6.7366e-05 - val_loss: 1.3916e-05\n",
      "Epoch 58/100\n",
      "\u001b[1m62/62\u001b[0m \u001b[32m━━━━━━━━━━━━━━━━━━━━\u001b[0m\u001b[37m\u001b[0m \u001b[1m0s\u001b[0m 4ms/step - loss: 6.8636e-05 - val_loss: 1.8363e-05\n",
      "Epoch 59/100\n",
      "\u001b[1m62/62\u001b[0m \u001b[32m━━━━━━━━━━━━━━━━━━━━\u001b[0m\u001b[37m\u001b[0m \u001b[1m0s\u001b[0m 5ms/step - loss: 6.2122e-05 - val_loss: 1.7757e-05\n",
      "Epoch 60/100\n",
      "\u001b[1m62/62\u001b[0m \u001b[32m━━━━━━━━━━━━━━━━━━━━\u001b[0m\u001b[37m\u001b[0m \u001b[1m0s\u001b[0m 5ms/step - loss: 6.3278e-05 - val_loss: 1.5560e-05\n",
      "Epoch 61/100\n",
      "\u001b[1m62/62\u001b[0m \u001b[32m━━━━━━━━━━━━━━━━━━━━\u001b[0m\u001b[37m\u001b[0m \u001b[1m0s\u001b[0m 5ms/step - loss: 6.6763e-05 - val_loss: 4.0163e-05\n",
      "Epoch 62/100\n",
      "\u001b[1m62/62\u001b[0m \u001b[32m━━━━━━━━━━━━━━━━━━━━\u001b[0m\u001b[37m\u001b[0m \u001b[1m0s\u001b[0m 5ms/step - loss: 6.7260e-05 - val_loss: 1.1370e-05\n",
      "Epoch 63/100\n",
      "\u001b[1m62/62\u001b[0m \u001b[32m━━━━━━━━━━━━━━━━━━━━\u001b[0m\u001b[37m\u001b[0m \u001b[1m0s\u001b[0m 4ms/step - loss: 6.5478e-05 - val_loss: 2.6773e-05\n",
      "Epoch 64/100\n",
      "\u001b[1m62/62\u001b[0m \u001b[32m━━━━━━━━━━━━━━━━━━━━\u001b[0m\u001b[37m\u001b[0m \u001b[1m0s\u001b[0m 4ms/step - loss: 6.1778e-05 - val_loss: 1.2989e-05\n",
      "Epoch 65/100\n",
      "\u001b[1m62/62\u001b[0m \u001b[32m━━━━━━━━━━━━━━━━━━━━\u001b[0m\u001b[37m\u001b[0m \u001b[1m0s\u001b[0m 5ms/step - loss: 6.2642e-05 - val_loss: 1.8374e-05\n",
      "Epoch 66/100\n",
      "\u001b[1m62/62\u001b[0m \u001b[32m━━━━━━━━━━━━━━━━━━━━\u001b[0m\u001b[37m\u001b[0m \u001b[1m0s\u001b[0m 4ms/step - loss: 6.5225e-05 - val_loss: 1.2584e-05\n",
      "Epoch 67/100\n",
      "\u001b[1m62/62\u001b[0m \u001b[32m━━━━━━━━━━━━━━━━━━━━\u001b[0m\u001b[37m\u001b[0m \u001b[1m0s\u001b[0m 5ms/step - loss: 5.8482e-05 - val_loss: 1.7172e-05\n",
      "Epoch 68/100\n",
      "\u001b[1m62/62\u001b[0m \u001b[32m━━━━━━━━━━━━━━━━━━━━\u001b[0m\u001b[37m\u001b[0m \u001b[1m0s\u001b[0m 4ms/step - loss: 5.7287e-05 - val_loss: 1.4634e-05\n",
      "Epoch 69/100\n",
      "\u001b[1m62/62\u001b[0m \u001b[32m━━━━━━━━━━━━━━━━━━━━\u001b[0m\u001b[37m\u001b[0m \u001b[1m0s\u001b[0m 4ms/step - loss: 6.2066e-05 - val_loss: 1.4036e-05\n",
      "Epoch 70/100\n",
      "\u001b[1m62/62\u001b[0m \u001b[32m━━━━━━━━━━━━━━━━━━━━\u001b[0m\u001b[37m\u001b[0m \u001b[1m0s\u001b[0m 4ms/step - loss: 6.1014e-05 - val_loss: 1.3117e-05\n",
      "Epoch 71/100\n",
      "\u001b[1m62/62\u001b[0m \u001b[32m━━━━━━━━━━━━━━━━━━━━\u001b[0m\u001b[37m\u001b[0m \u001b[1m0s\u001b[0m 4ms/step - loss: 5.7518e-05 - val_loss: 1.3369e-05\n",
      "Epoch 72/100\n",
      "\u001b[1m62/62\u001b[0m \u001b[32m━━━━━━━━━━━━━━━━━━━━\u001b[0m\u001b[37m\u001b[0m \u001b[1m0s\u001b[0m 4ms/step - loss: 5.6224e-05 - val_loss: 1.3800e-05\n",
      "Epoch 73/100\n",
      "\u001b[1m62/62\u001b[0m \u001b[32m━━━━━━━━━━━━━━━━━━━━\u001b[0m\u001b[37m\u001b[0m \u001b[1m0s\u001b[0m 4ms/step - loss: 5.7262e-05 - val_loss: 1.3273e-05\n",
      "Epoch 74/100\n",
      "\u001b[1m62/62\u001b[0m \u001b[32m━━━━━━━━━━━━━━━━━━━━\u001b[0m\u001b[37m\u001b[0m \u001b[1m0s\u001b[0m 4ms/step - loss: 6.4409e-05 - val_loss: 1.3967e-05\n",
      "Epoch 75/100\n",
      "\u001b[1m62/62\u001b[0m \u001b[32m━━━━━━━━━━━━━━━━━━━━\u001b[0m\u001b[37m\u001b[0m \u001b[1m0s\u001b[0m 4ms/step - loss: 5.5448e-05 - val_loss: 1.4031e-05\n",
      "Epoch 76/100\n",
      "\u001b[1m62/62\u001b[0m \u001b[32m━━━━━━━━━━━━━━━━━━━━\u001b[0m\u001b[37m\u001b[0m \u001b[1m0s\u001b[0m 4ms/step - loss: 6.1223e-05 - val_loss: 1.3434e-05\n",
      "Epoch 77/100\n",
      "\u001b[1m62/62\u001b[0m \u001b[32m━━━━━━━━━━━━━━━━━━━━\u001b[0m\u001b[37m\u001b[0m \u001b[1m0s\u001b[0m 4ms/step - loss: 5.9446e-05 - val_loss: 1.4316e-05\n",
      "Epoch 78/100\n",
      "\u001b[1m62/62\u001b[0m \u001b[32m━━━━━━━━━━━━━━━━━━━━\u001b[0m\u001b[37m\u001b[0m \u001b[1m0s\u001b[0m 4ms/step - loss: 5.8923e-05 - val_loss: 1.6875e-05\n",
      "Epoch 79/100\n",
      "\u001b[1m62/62\u001b[0m \u001b[32m━━━━━━━━━━━━━━━━━━━━\u001b[0m\u001b[37m\u001b[0m \u001b[1m0s\u001b[0m 4ms/step - loss: 5.6532e-05 - val_loss: 1.3663e-05\n",
      "Epoch 80/100\n",
      "\u001b[1m62/62\u001b[0m \u001b[32m━━━━━━━━━━━━━━━━━━━━\u001b[0m\u001b[37m\u001b[0m \u001b[1m0s\u001b[0m 4ms/step - loss: 5.9392e-05 - val_loss: 1.9197e-05\n",
      "Epoch 81/100\n",
      "\u001b[1m62/62\u001b[0m \u001b[32m━━━━━━━━━━━━━━━━━━━━\u001b[0m\u001b[37m\u001b[0m \u001b[1m0s\u001b[0m 4ms/step - loss: 7.1140e-05 - val_loss: 9.9676e-06\n",
      "Epoch 82/100\n",
      "\u001b[1m62/62\u001b[0m \u001b[32m━━━━━━━━━━━━━━━━━━━━\u001b[0m\u001b[37m\u001b[0m \u001b[1m0s\u001b[0m 4ms/step - loss: 5.7763e-05 - val_loss: 1.1821e-05\n",
      "Epoch 83/100\n",
      "\u001b[1m62/62\u001b[0m \u001b[32m━━━━━━━━━━━━━━━━━━━━\u001b[0m\u001b[37m\u001b[0m \u001b[1m0s\u001b[0m 4ms/step - loss: 5.9016e-05 - val_loss: 2.3409e-05\n",
      "Epoch 84/100\n",
      "\u001b[1m62/62\u001b[0m \u001b[32m━━━━━━━━━━━━━━━━━━━━\u001b[0m\u001b[37m\u001b[0m \u001b[1m0s\u001b[0m 4ms/step - loss: 5.9707e-05 - val_loss: 1.2796e-05\n",
      "Epoch 85/100\n",
      "\u001b[1m62/62\u001b[0m \u001b[32m━━━━━━━━━━━━━━━━━━━━\u001b[0m\u001b[37m\u001b[0m \u001b[1m0s\u001b[0m 4ms/step - loss: 5.9436e-05 - val_loss: 1.0444e-05\n",
      "Epoch 86/100\n",
      "\u001b[1m62/62\u001b[0m \u001b[32m━━━━━━━━━━━━━━━━━━━━\u001b[0m\u001b[37m\u001b[0m \u001b[1m0s\u001b[0m 4ms/step - loss: 5.5713e-05 - val_loss: 9.2675e-06\n",
      "Epoch 87/100\n",
      "\u001b[1m62/62\u001b[0m \u001b[32m━━━━━━━━━━━━━━━━━━━━\u001b[0m\u001b[37m\u001b[0m \u001b[1m0s\u001b[0m 4ms/step - loss: 5.6074e-05 - val_loss: 1.0740e-05\n",
      "Epoch 88/100\n",
      "\u001b[1m62/62\u001b[0m \u001b[32m━━━━━━━━━━━━━━━━━━━━\u001b[0m\u001b[37m\u001b[0m \u001b[1m0s\u001b[0m 4ms/step - loss: 5.5931e-05 - val_loss: 9.8798e-06\n",
      "Epoch 89/100\n",
      "\u001b[1m62/62\u001b[0m \u001b[32m━━━━━━━━━━━━━━━━━━━━\u001b[0m\u001b[37m\u001b[0m \u001b[1m0s\u001b[0m 4ms/step - loss: 5.7117e-05 - val_loss: 9.9695e-06\n",
      "Epoch 90/100\n",
      "\u001b[1m62/62\u001b[0m \u001b[32m━━━━━━━━━━━━━━━━━━━━\u001b[0m\u001b[37m\u001b[0m \u001b[1m0s\u001b[0m 4ms/step - loss: 6.0434e-05 - val_loss: 1.2806e-05\n",
      "Epoch 91/100\n",
      "\u001b[1m62/62\u001b[0m \u001b[32m━━━━━━━━━━━━━━━━━━━━\u001b[0m\u001b[37m\u001b[0m \u001b[1m0s\u001b[0m 4ms/step - loss: 6.0300e-05 - val_loss: 1.0900e-05\n",
      "Epoch 92/100\n",
      "\u001b[1m62/62\u001b[0m \u001b[32m━━━━━━━━━━━━━━━━━━━━\u001b[0m\u001b[37m\u001b[0m \u001b[1m0s\u001b[0m 4ms/step - loss: 5.6950e-05 - val_loss: 1.1390e-05\n",
      "Epoch 93/100\n",
      "\u001b[1m62/62\u001b[0m \u001b[32m━━━━━━━━━━━━━━━━━━━━\u001b[0m\u001b[37m\u001b[0m \u001b[1m0s\u001b[0m 4ms/step - loss: 5.9001e-05 - val_loss: 1.2513e-05\n",
      "Epoch 94/100\n",
      "\u001b[1m62/62\u001b[0m \u001b[32m━━━━━━━━━━━━━━━━━━━━\u001b[0m\u001b[37m\u001b[0m \u001b[1m0s\u001b[0m 4ms/step - loss: 6.0172e-05 - val_loss: 9.2222e-06\n",
      "Epoch 95/100\n",
      "\u001b[1m62/62\u001b[0m \u001b[32m━━━━━━━━━━━━━━━━━━━━\u001b[0m\u001b[37m\u001b[0m \u001b[1m0s\u001b[0m 4ms/step - loss: 5.8416e-05 - val_loss: 9.9797e-06\n",
      "Epoch 96/100\n",
      "\u001b[1m62/62\u001b[0m \u001b[32m━━━━━━━━━━━━━━━━━━━━\u001b[0m\u001b[37m\u001b[0m \u001b[1m0s\u001b[0m 4ms/step - loss: 5.5977e-05 - val_loss: 9.5771e-06\n",
      "Epoch 97/100\n",
      "\u001b[1m62/62\u001b[0m \u001b[32m━━━━━━━━━━━━━━━━━━━━\u001b[0m\u001b[37m\u001b[0m \u001b[1m0s\u001b[0m 4ms/step - loss: 6.1495e-05 - val_loss: 2.4024e-05\n",
      "Epoch 98/100\n",
      "\u001b[1m62/62\u001b[0m \u001b[32m━━━━━━━━━━━━━━━━━━━━\u001b[0m\u001b[37m\u001b[0m \u001b[1m0s\u001b[0m 5ms/step - loss: 5.9629e-05 - val_loss: 7.8090e-06\n",
      "Epoch 99/100\n",
      "\u001b[1m62/62\u001b[0m \u001b[32m━━━━━━━━━━━━━━━━━━━━\u001b[0m\u001b[37m\u001b[0m \u001b[1m0s\u001b[0m 4ms/step - loss: 5.7096e-05 - val_loss: 2.0528e-05\n",
      "Epoch 100/100\n",
      "\u001b[1m62/62\u001b[0m \u001b[32m━━━━━━━━━━━━━━━━━━━━\u001b[0m\u001b[37m\u001b[0m \u001b[1m0s\u001b[0m 4ms/step - loss: 5.9973e-05 - val_loss: 8.9589e-06\n"
     ]
    }
   ],
   "source": [
    "training_history = rnn_model.fit(\n",
    "    X_train_data, y_train_data,\n",
    "    epochs=100,\n",
    "    batch_size=32,\n",
    "    validation_data=(X_test_data, y_test_data)\n",
    ")\n"
   ]
  },
  {
   "cell_type": "code",
   "execution_count": 84,
   "id": "f04e3468",
   "metadata": {},
   "outputs": [],
   "source": [
    "future_predictions = []\n",
    "recent_sequence = normalized_data[train_test_split_idx - sequence_len:train_test_split_idx]\n",
    "\n",
    "for _ in range(75):\n",
    "    recent_sequence = np.reshape(recent_sequence, (1, sequence_len, 1))\n",
    "    predicted_price = rnn_model.predict(recent_sequence, verbose=0)\n",
    "\n",
    "    future_predictions.append(predicted_price[0][0])\n",
    "    predicted_price = np.reshape(predicted_price, (1, 1, 1))\n",
    "    recent_sequence = np.append(recent_sequence[:, 1:, :], predicted_price, axis=1)\n",
    "\n",
    "future_predictions = np.array(future_predictions).reshape(-1, 1)\n",
    "predicted_future_prices = scaler_obj.inverse_transform(future_predictions)\n"
   ]
  },
  {
   "cell_type": "code",
   "execution_count": 86,
   "id": "95b78cc6",
   "metadata": {},
   "outputs": [
    {
     "data": {
      "image/png": "[encoded data removed]",
      "text/plain": [
       "<Figure size 1200x600 with 1 Axes>"
      ]
     },
     "metadata": {},
     "output_type": "display_data"
    }
   ],
   "source": [
    "# Plot for 75 days instead of 20\n",
    "actual_75_prices = scaler_obj.inverse_transform(normalized_data[train_test_split_idx:train_test_split_idx+75])\n",
    "\n",
    "plt.figure(figsize=(12,6))\n",
    "plt.plot(dataframe.index[train_test_split_idx:train_test_split_idx+75], actual_75_prices, label='Actual Prices')\n",
    "plt.plot(dataframe.index[train_test_split_idx:train_test_split_idx+75], predicted_future_prices[:75], label='Predicted Prices')\n",
    "plt.title('Actual vs Predicted Apple Stock Prices (Next 75 Days)')\n",
    "plt.xlabel('Date')\n",
    "plt.ylabel('Stock Price')\n",
    "plt.legend()\n",
    "plt.show()\n"
   ]
  },
  {
   "cell_type": "code",
   "execution_count": 88,
   "id": "e5b58992",
   "metadata": {},
   "outputs": [
    {
     "name": "stdout",
     "output_type": "stream",
     "text": [
      "Day 1: Actual: 80.75, Predicted: 80.95494842529297\n",
      "Day 2: Actual: 83.1171, Predicted: 80.54212188720703\n",
      "Day 3: Actual: 83.7114, Predicted: 80.15967559814453\n",
      "Day 4: Actual: 83.1614, Predicted: 79.78545379638672\n",
      "Day 5: Actual: 83.4257, Predicted: 79.40357971191406\n",
      "Day 6: Actual: 86.1428, Predicted: 79.0225601196289\n",
      "Day 7: Actual: 86.8143, Predicted: 78.6612777709961\n",
      "Day 8: Actual: 87.1428, Predicted: 78.30643463134766\n",
      "Day 9: Actual: 80.04, Predicted: 77.95918273925781\n",
      "Day 10: Actual: 81.6714, Predicted: 77.62327575683594\n",
      "Day 11: Actual: 81.85430000000001, Predicted: 77.29676818847656\n",
      "Day 12: Actual: 83.92, Predicted: 76.97965240478516\n",
      "Day 13: Actual: 86.9057, Predicted: 76.67143249511719\n",
      "Day 14: Actual: 87.1, Predicted: 76.37225341796875\n",
      "Day 15: Actual: 82.8757, Predicted: 76.08161926269531\n",
      "Day 16: Actual: 86.46140000000001, Predicted: 75.79927825927734\n",
      "Day 17: Actual: 88.9671, Predicted: 75.52507019042969\n",
      "Day 18: Actual: 89.4571, Predicted: 75.25872039794922\n",
      "Day 19: Actual: 89.7771, Predicted: 75.0000228881836\n",
      "Day 20: Actual: 90.89, Predicted: 74.74874114990234\n",
      "Day 21: Actual: 90.5257, Predicted: 74.50466918945312\n",
      "Day 22: Actual: 89.1871, Predicted: 74.26760864257812\n",
      "Day 23: Actual: 89.9028, Predicted: 74.03734588623047\n",
      "Day 24: Actual: 88.3757, Predicted: 73.81368255615234\n",
      "Day 25: Actual: 85.65, Predicted: 73.59644317626953\n",
      "Day 26: Actual: 87.12279999999998, Predicted: 73.38543701171875\n",
      "Day 27: Actual: 88.2314, Predicted: 73.18048095703125\n",
      "Day 28: Actual: 87.7828, Predicted: 72.98140716552734\n",
      "Day 29: Actual: 86.7114, Predicted: 72.78805541992188\n",
      "Day 30: Actual: 85.15, Predicted: 72.60025024414062\n",
      "Day 31: Actual: 85.62, Predicted: 72.4178237915039\n",
      "Day 32: Actual: 86.07140000000001, Predicted: 72.24063873291016\n",
      "Day 33: Actual: 86.5657, Predicted: 72.06853485107422\n",
      "Day 34: Actual: 85.8714, Predicted: 71.9013671875\n",
      "Day 35: Actual: 83.65279999999998, Predicted: 71.73900604248047\n",
      "Day 36: Actual: 83.6514, Predicted: 71.581298828125\n",
      "Day 37: Actual: 84.2257, Predicted: 71.42811584472656\n",
      "Day 38: Actual: 81.1571, Predicted: 71.27932739257812\n",
      "Day 39: Actual: 78.8571, Predicted: 71.13480377197266\n",
      "Day 40: Actual: 77.88139999999999, Predicted: 70.99443054199219\n",
      "Day 41: Actual: 77.4271, Predicted: 70.85807800292969\n",
      "Day 42: Actual: 75.8128, Predicted: 70.72564697265625\n",
      "Day 43: Actual: 75.75139999999999, Predicted: 70.59701538085938\n",
      "Day 44: Actual: 76.1657, Predicted: 70.47207641601562\n",
      "Day 45: Actual: 77.8828, Predicted: 70.35071563720703\n",
      "Day 46: Actual: 77.7814, Predicted: 70.23284149169922\n",
      "Day 47: Actual: 77.49139999999998, Predicted: 70.11834716796875\n",
      "Day 48: Actual: 76.4871, Predicted: 70.00714111328125\n",
      "Day 49: Actual: 75.1085, Predicted: 69.89911651611328\n",
      "Day 50: Actual: 74.63, Predicted: 69.7942123413086\n",
      "Day 51: Actual: 73.77, Predicted: 69.69230651855469\n",
      "Day 52: Actual: 73.2914, Predicted: 69.59332275390625\n",
      "Day 53: Actual: 73.54999999999998, Predicted: 69.49717712402344\n",
      "Day 54: Actual: 71.7314, Predicted: 69.40379333496094\n",
      "Day 55: Actual: 71.7443, Predicted: 69.31309509277344\n",
      "Day 56: Actual: 71.0957, Predicted: 69.22499084472656\n",
      "Day 57: Actual: 72.77999999999999, Predicted: 69.13941955566406\n",
      "Day 58: Actual: 71.79999999999998, Predicted: 69.05630493164062\n",
      "Day 59: Actual: 70.4886, Predicted: 68.97557067871094\n",
      "Day 60: Actual: 70.4528, Predicted: 68.89715576171875\n",
      "Day 61: Actual: 68.0971, Predicted: 68.82099151611328\n",
      "Day 62: Actual: 66.9757, Predicted: 68.74701690673828\n",
      "Day 63: Actual: 66.2814, Predicted: 68.67515563964844\n",
      "Day 64: Actual: 65.6686, Predicted: 68.60536193847656\n",
      "Day 65: Actual: 65.0171, Predicted: 68.53756713867188\n",
      "Day 66: Actual: 65.17, Predicted: 68.47171783447266\n",
      "Day 67: Actual: 65.2114, Predicted: 68.40776062011719\n",
      "Day 68: Actual: 64.7157, Predicted: 68.34563446044922\n",
      "Day 69: Actual: 63.8971, Predicted: 68.28529357910156\n",
      "Day 70: Actual: 63.5186, Predicted: 68.22669219970703\n",
      "Day 71: Actual: 63.8086, Predicted: 68.16976165771484\n",
      "Day 72: Actual: 60.0586, Predicted: 68.11446380615234\n",
      "Day 73: Actual: 61.0584, Predicted: 68.06075286865234\n",
      "Day 74: Actual: 60.0428, Predicted: 68.00859069824219\n",
      "Day 75: Actual: 61.107099999999996, Predicted: 67.95792388916016\n"
     ]
    }
   ],
   "source": [
    "for day in range(75):\n",
    "    print(f\"Day {day+1}: Actual: {actual_75_prices[day][0]}, Predicted: {predicted_future_prices[day][0]}\")\n"
   ]
  }
 ],
 "metadata": {
  "kernelspec": {
   "display_name": "Python 3",
   "language": "python",
   "name": "python3"
  },
  "language_info": {
   "codemirror_mode": {
    "name": "ipython",
    "version": 3
   },
   "file_extension": ".py",
   "mimetype": "text/x-python",
   "name": "python",
   "nbconvert_exporter": "python",
   "pygments_lexer": "ipython3",
   "version": "3.12.3"
  }
 },
 "nbformat": 4,
 "nbformat_minor": 5
}
